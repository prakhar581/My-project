{
 "cells": [
  {
   "cell_type": "code",
   "execution_count": 26,
   "metadata": {},
   "outputs": [],
   "source": [
    "import cv2\n",
    "cap=cv2.VideoCapture('Video.mp4')\n",
    "while True:\n",
    "        _,img=cap.read()\n",
    "        cv2.imshow(\"imgOriginalScene\", img)           \n",
    "        if cv2.waitKey(1)==13:\n",
    "                     break\n",
    "cap.release()\n",
    "cv2.destroyAllWindows()"
   ]
  },
  {
   "cell_type": "code",
   "execution_count": 54,
   "metadata": {},
   "outputs": [
    {
     "name": "stdout",
     "output_type": "stream",
     "text": [
      "License Plate Number is =19837\n"
     ]
    }
   ],
   "source": [
    "\n",
    "import cv2\n",
    "import numpy as np\n",
    "import os\n",
    "\n",
    "import DetectChars\n",
    "import DetectPlates\n",
    "import PossiblePlate\n",
    "\n",
    "# module level variables ##########################################################################\n",
    "SCALAR_BLACK = (0.0, 0.0, 0.0)\n",
    "SCALAR_WHITE = (255.0, 255.0, 255.0)\n",
    "SCALAR_YELLOW = (0.0, 255.0, 255.0)\n",
    "SCALAR_GREEN = (0.0, 255.0, 0.0)\n",
    "SCALAR_RED = (0.0, 0.0, 255.0)\n",
    "\n",
    "showSteps = False\n",
    "name=[]\n",
    "big_name=[]\n",
    "###################################################################################################\n",
    "def main():\n",
    "\n",
    "    blnKNNTrainingSuccessful = DetectChars.loadKNNDataAndTrainKNN()# this will give true or false attempt KNN training\n",
    "\n",
    "    if blnKNNTrainingSuccessful == False:                               # if KNN training was not successful\n",
    "        print(\"\\nerror: KNN traning was not successful\\n\")  # show error message\n",
    "        return                                                          # and exit program\n",
    "    count=0\n",
    "    cap=cv2.VideoCapture('Video.mp4')\n",
    "    while True:\n",
    "        _, imgOriginalScene=cap.read()\n",
    "        #copy=imgOriginalScene.copy()\n",
    "        listOfPossiblePlates = DetectPlates.detectPlatesInScene(imgOriginalScene)           # detect plates\n",
    "        listOfPossiblePlates = DetectChars.detectCharsInPlates(listOfPossiblePlates)        # detect chars in plates\n",
    "        if len(listOfPossiblePlates) != 0:      \n",
    "            listOfPossiblePlates.sort(key = lambda possiblePlate: len(possiblePlate.strChars), reverse = True)\n",
    "            licPlate = listOfPossiblePlates[0]\n",
    "            #if len(licPlate.strChars) == 0:                     # if no chars were found in the plate\n",
    "            #    print(\"\\nno characters were detected\\n\\n\")  # show message\n",
    "            #    return                                          \n",
    "\n",
    "            drawRedRectangleAroundPlate(imgOriginalScene, licPlate)\n",
    "            if len(licPlate.strChars)>4 and len(licPlate.strChars)<8:\n",
    "                name.append(licPlate.strChars)\n",
    "                count+=1\n",
    "                #This fn will help us achieve accurate result in LPRS\n",
    "                if count==50:\n",
    "                    big_name.append(Name(name))\n",
    "                elif count==100:\n",
    "                    big_name.append(Name(name))\n",
    "                elif count==150:\n",
    "                    big_name.append(Name(name))\n",
    "                elif count==200:\n",
    "                    big_name.append(Name(name))\n",
    "                elif count==300:\n",
    "                    big_name.append(Name(name))\n",
    "                elif count>300:\n",
    "                    print('License Plate Number is ='+Name(big_name))\n",
    "                    break\n",
    "                    #print_name(name)# u can use this too\n",
    "                   # prob_name1,prob_name2=Name(name)\n",
    "                   # print('name 1 ='+prob_name1 +'\\nname 2 ='+prob_name2 )\n",
    "                   # break      \n",
    "            cv2.imshow(\"imgOriginalScene\", imgOriginalScene)\n",
    "            if cv2.waitKey(1)==13:\n",
    "                     break\n",
    "        # end if else\n",
    "    \n",
    "    cap.release()# hold windows open until user presses a key\n",
    "    cv2.destroyAllWindows()\n",
    "    return\n",
    "# end main\n",
    "\n",
    "###################################################################################################\n",
    "\n",
    "def Name(name): \n",
    "    x=np.unique(name)\n",
    "    x=sorted(x,key=lambda i :name.count(i),reverse=True)\n",
    "    return x[0]#,x[1]\n",
    "def print_name(name): \n",
    "    x=np.unique(name)\n",
    "    prev_count=0\n",
    "    for i in x:\n",
    "        c=name.count(i)#1\n",
    "        if prev_count<c:\n",
    "                  c=c\n",
    "                  print(\"\\nlicense plate read from Video = \" + i + \"\\n\")\n",
    "        else:\n",
    "              c=prev_count\n",
    "        prev_count=c \n",
    "def drawRedRectangleAroundPlate(imgOriginalScene, licPlate):\n",
    "\n",
    "    p2fRectPoints = cv2.boxPoints(licPlate.rrLocationOfPlateInScene)            # get 4 vertices of rotated rect\n",
    "\n",
    "    cv2.line(imgOriginalScene, tuple(p2fRectPoints[0]), tuple(p2fRectPoints[1]), SCALAR_RED, 2)         # draw 4 red lines\n",
    "    cv2.line(imgOriginalScene, tuple(p2fRectPoints[1]), tuple(p2fRectPoints[2]), SCALAR_RED, 2)\n",
    "    cv2.line(imgOriginalScene, tuple(p2fRectPoints[2]), tuple(p2fRectPoints[3]), SCALAR_RED, 2)\n",
    "    cv2.line(imgOriginalScene, tuple(p2fRectPoints[3]), tuple(p2fRectPoints[0]), SCALAR_RED, 2)\n",
    "# end function\n",
    "\n",
    "###################################################################################################\n",
    "###################\n",
    "if __name__ == \"__main__\":\n",
    "    main()"
   ]
  },
  {
   "cell_type": "code",
   "execution_count": 37,
   "metadata": {},
   "outputs": [
    {
     "data": {
      "text/plain": [
       "['II83P',\n",
       " '19837',\n",
       " '19837',\n",
       " '19837',\n",
       " '19837',\n",
       " '19837',\n",
       " 'I983I',\n",
       " 'HI9I3',\n",
       " 'II837',\n",
       " '19837']"
      ]
     },
     "execution_count": 37,
     "metadata": {},
     "output_type": "execute_result"
    }
   ],
   "source": [
    "\n",
    "name"
   ]
  },
  {
   "cell_type": "code",
   "execution_count": 38,
   "metadata": {},
   "outputs": [
    {
     "data": {
      "text/plain": [
       "array(['19837', 'HI9I3', 'I983I', 'II837', 'II83P'], dtype='<U5')"
      ]
     },
     "execution_count": 38,
     "metadata": {},
     "output_type": "execute_result"
    }
   ],
   "source": [
    "x=np.unique(name)\n",
    "x"
   ]
  },
  {
   "cell_type": "code",
   "execution_count": 39,
   "metadata": {},
   "outputs": [
    {
     "data": {
      "text/plain": [
       "['19837', 'HI9I3', 'I983I', 'II837', 'II83P']"
      ]
     },
     "execution_count": 39,
     "metadata": {},
     "output_type": "execute_result"
    }
   ],
   "source": [
    "x=np.unique(name)\n",
    "x=sorted(x,key=lambda i :name.count(i),reverse=True)\n",
    "#x"
   ]
  },
  {
   "cell_type": "code",
   "execution_count": 53,
   "metadata": {},
   "outputs": [],
   "source": [
    "cap=cv2.VideoCapture('Video.mp4')\n",
    "while True:\n",
    "        _,img=cap.read()\n",
    "        cv2.imshow(\"imgOriginalScene\", img)           \n",
    "        if cv2.waitKey(1)==13:\n",
    "                     break\n",
    "cap.release()\n",
    "cv2.destroyAllWindows()"
   ]
  },
  {
   "cell_type": "code",
   "execution_count": 33,
   "metadata": {},
   "outputs": [],
   "source": [
    "student_tuples = [('john', 'A', 15),('jane', 'B', 12),('dave', 'B', 10),]\n",
    "student_tuples=sorted(student_tuples, key=lambda student: student[2],reverse=False) "
   ]
  },
  {
   "cell_type": "code",
   "execution_count": 34,
   "metadata": {},
   "outputs": [
    {
     "data": {
      "text/plain": [
       "[('dave', 'B', 10), ('jane', 'B', 12), ('john', 'A', 15)]"
      ]
     },
     "execution_count": 34,
     "metadata": {},
     "output_type": "execute_result"
    }
   ],
   "source": [
    "student_tuples"
   ]
  },
  {
   "cell_type": "code",
   "execution_count": null,
   "metadata": {},
   "outputs": [],
   "source": []
  }
 ],
 "metadata": {
  "kernelspec": {
   "display_name": "Python 3",
   "language": "python",
   "name": "python3"
  },
  "language_info": {
   "codemirror_mode": {
    "name": "ipython",
    "version": 3
   },
   "file_extension": ".py",
   "mimetype": "text/x-python",
   "name": "python",
   "nbconvert_exporter": "python",
   "pygments_lexer": "ipython3",
   "version": "3.7.7"
  }
 },
 "nbformat": 4,
 "nbformat_minor": 4
}
